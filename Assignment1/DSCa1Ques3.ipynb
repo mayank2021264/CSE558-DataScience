{
  "nbformat": 4,
  "nbformat_minor": 0,
  "metadata": {
    "colab": {
      "provenance": []
    },
    "kernelspec": {
      "name": "python3",
      "display_name": "Python 3"
    },
    "language_info": {
      "name": "python"
    }
  },
  "cells": [
    {
      "cell_type": "markdown",
      "source": [
        "**PART a**\n",
        "\n",
        "---\n",
        "\n",
        "Here since we have to calculate the expected number of rolls until we see the number ⌊√k⌋ on the upward face of a k-faced unbiased die, we have implemented this by following below steps :-\n",
        "\n",
        "\n",
        "1.   For an unbiased k-faced die, the probability of getting any particular number on a single roll is 1/k.\n",
        "2. We're interested in the number ⌊√k⌋. This is a specific outcome, so we can model this as a geometric distribution.\n",
        "3. The expected number of trials until success for a geometric distribution is 1/p, where p is the probability of success on a single trial.\n",
        "4. In this case, p = 1/k, so the expected number of rolls is k."
      ],
      "metadata": {
        "id": "ghgfmok0G6sJ"
      }
    },
    {
      "cell_type": "code",
      "execution_count": 2,
      "metadata": {
        "colab": {
          "base_uri": "https://localhost:8080/"
        },
        "id": "0IVNhpYnFTF1",
        "outputId": "8fb6a3be-8cd7-4d78-90c6-68d284df1ac6"
      },
      "outputs": [
        {
          "output_type": "stream",
          "name": "stdout",
          "text": [
            "For a 6-faced die:\n",
            "Target number: 2\n",
            "Theoretical expected number of rolls: 6\n",
            "Simulated expected number of rolls: 6.0276\n"
          ]
        }
      ],
      "source": [
        "import math\n",
        "import random\n",
        "\n",
        "def expected_rolls_until_sqrt(k):\n",
        "    target = math.floor(math.sqrt(k))\n",
        "    return k\n",
        "\n",
        "def simulate_rolls(k, num_simulations):\n",
        "    target = math.floor(math.sqrt(k))\n",
        "    total_rolls = 0\n",
        "\n",
        "    for _ in range(num_simulations):\n",
        "        rolls = 0\n",
        "        while True:\n",
        "            rolls += 1\n",
        "            if random.randint(1, k) == target:\n",
        "                break\n",
        "        total_rolls += rolls\n",
        "\n",
        "    return total_rolls / num_simulations\n",
        "\n",
        "# Example usage\n",
        "k = 6\n",
        "theoretical_expectation = expected_rolls_until_sqrt(k)\n",
        "simulated_expectation = simulate_rolls(k, 10000)\n",
        "\n",
        "print(f\"For a {k}-faced die:\")\n",
        "print(f\"Target number: {math.floor(math.sqrt(k))}\")\n",
        "print(f\"Theoretical expected number of rolls: {theoretical_expectation}\")\n",
        "print(f\"Simulated expected number of rolls: {simulated_expectation}\")"
      ]
    },
    {
      "cell_type": "markdown",
      "source": [
        "**PART b**\n",
        "\n",
        "---\n",
        "\n",
        "1.We want to calculate the expected number of rolls needed to see all numbers from 1 to k at least once.\n",
        "\n",
        "2.This problem is equivalent to the coupon collector's problem where each face of the die is a \"coupon\".\n",
        "\n",
        "3.The expected number of rolls (E) for a k-sided die is given by the formula:\n",
        "E = k * (1/1 + 1/2 + 1/3 + ... + 1/k)\n",
        "This sum is approximately k * ln(k) + yk, where y is the Euler-Mascheroni constant (approximately 0.5772156649)."
      ],
      "metadata": {
        "id": "UjxHchoERNWz"
      }
    },
    {
      "cell_type": "code",
      "source": [
        "import random\n",
        "import math\n",
        "\n",
        "def theoretical_expectation(k):\n",
        "    return k * sum(1/i for i in range(1, k+1))\n",
        "\n",
        "def simulate_rolls(k, num_simulations):\n",
        "    total_rolls = 0\n",
        "    for _ in range(num_simulations):\n",
        "        seen = set()\n",
        "        rolls = 0\n",
        "        while len(seen) < k:\n",
        "            rolls += 1\n",
        "            face = random.randint(1, k)\n",
        "            seen.add(face)\n",
        "        total_rolls += rolls\n",
        "    return total_rolls / num_simulations\n",
        "\n",
        "def main():\n",
        "    k_values = [6, 20, 100]  # Test with different die sizes\n",
        "    num_simulations = 10000\n",
        "\n",
        "    for k in k_values:\n",
        "        theo_expect = theoretical_expectation(k)\n",
        "        sim_expect = simulate_rolls(k, num_simulations)\n",
        "\n",
        "        print(f\"\\nFor a {k}-sided die:\")\n",
        "        print(f\"Theoretical expectation: {theo_expect:.2f} rolls\")\n",
        "        print(f\"Simulated expectation: {sim_expect:.2f} rolls\")\n",
        "\n",
        "if __name__ == \"__main__\":\n",
        "    main()"
      ],
      "metadata": {
        "colab": {
          "base_uri": "https://localhost:8080/"
        },
        "id": "m7LvwoB3qaqR",
        "outputId": "f855d2d5-617c-4055-eb9b-c0e6b7dd98d2"
      },
      "execution_count": 3,
      "outputs": [
        {
          "output_type": "stream",
          "name": "stdout",
          "text": [
            "\n",
            "For a 6-sided die:\n",
            "Theoretical expectation: 14.70 rolls\n",
            "Simulated expectation: 14.78 rolls\n",
            "\n",
            "For a 20-sided die:\n",
            "Theoretical expectation: 71.95 rolls\n",
            "Simulated expectation: 71.31 rolls\n",
            "\n",
            "For a 100-sided die:\n",
            "Theoretical expectation: 518.74 rolls\n",
            "Simulated expectation: 519.63 rolls\n"
          ]
        }
      ]
    },
    {
      "cell_type": "markdown",
      "source": [
        "**PART C**"
      ],
      "metadata": {
        "id": "e51n1TGERhxE"
      }
    },
    {
      "cell_type": "code",
      "source": [
        "import random\n",
        "\n",
        "def theoretical_expectation():\n",
        "    p1, p2, p3 = 1/4, 1/2, 1/4\n",
        "    E = (1/p1 + 1/p2 + 1/p3 +\n",
        "         1/(p1+p2) + 1/(p1+p3) + 1/(p2+p3) +\n",
        "         1/(p1+p2+p3))\n",
        "    return E\n",
        "\n",
        "def simulate_rolls(num_simulations):\n",
        "    total_rolls = 0\n",
        "    for _ in range(num_simulations):\n",
        "        seen = set()\n",
        "        rolls = 0\n",
        "        while len(seen) < 3:\n",
        "            rolls += 1\n",
        "            r = random.random()\n",
        "            if r < 0.25:\n",
        "                seen.add(1)\n",
        "            elif r < 0.75:\n",
        "                seen.add(2)\n",
        "            else:\n",
        "                seen.add(3)\n",
        "        total_rolls += rolls\n",
        "    return total_rolls / num_simulations\n",
        "\n",
        "def main():\n",
        "    theo_expect = theoretical_expectation()\n",
        "    print(f\"Theoretical expectation: {theo_expect:.4f} rolls\")\n",
        "\n",
        "    num_simulations = 1000000\n",
        "    sim_expect = simulate_rolls(num_simulations)\n",
        "    print(f\"Simulated expectation ({num_simulations} simulations): {sim_expect:.4f} rolls\")\n",
        "\n",
        "if __name__ == \"__main__\":\n",
        "    main()"
      ],
      "metadata": {
        "colab": {
          "base_uri": "https://localhost:8080/"
        },
        "id": "TIBbU7a6rIPm",
        "outputId": "72f5394d-e31d-4678-f21f-90067c32a146"
      },
      "execution_count": 4,
      "outputs": [
        {
          "output_type": "stream",
          "name": "stdout",
          "text": [
            "Theoretical expectation: 15.6667 rolls\n",
            "Simulated expectation (1000000 simulations): 6.3356 rolls\n"
          ]
        }
      ]
    },
    {
      "cell_type": "markdown",
      "source": [
        "**PART D**\n",
        "\n",
        "---\n",
        "\n",
        "\n",
        "we can clearly see in the plot that how the curve increases as the number of faces of the dice increases."
      ],
      "metadata": {
        "id": "BasebGwcRlSn"
      }
    },
    {
      "cell_type": "code",
      "source": [
        "import math\n",
        "import matplotlib.pyplot as plt\n",
        "\n",
        "def probability(i, k):\n",
        "    if i == 1 or i == k:\n",
        "        return 1 / (2**(k-1))\n",
        "    else:\n",
        "        return 1 / (2**(i-1))\n",
        "\n",
        "def expected_rolls(k):\n",
        "    probabilities = [probability(i, k) for i in range(1, k+1)]\n",
        "\n",
        "    total = 0\n",
        "    for r in range(1, k+1):\n",
        "        sum_prob = sum(probabilities[i-1] for i in range(r, k+1))\n",
        "        total += 1 / sum_prob\n",
        "\n",
        "    return total\n",
        "\n",
        "def main():\n",
        "    k_values = range(3, 21)  # Calculate for k from 3 to 20\n",
        "    expected_rolls_values = [expected_rolls(k) for k in k_values]\n",
        "\n",
        "    # Print results\n",
        "    for k, e in zip(k_values, expected_rolls_values):\n",
        "        print(f\"k = {k}: Expected rolls = {e:.4f}\")\n",
        "\n",
        "    # Plot results\n",
        "    plt.figure(figsize=(10, 6))\n",
        "    plt.plot(k_values, expected_rolls_values, marker='o')\n",
        "    plt.title(\"Expected Number of Rolls vs. Number of Faces (k)\")\n",
        "    plt.xlabel(\"Number of Faces (k)\")\n",
        "    plt.ylabel(\"Expected Number of Rolls\")\n",
        "    plt.grid(True)\n",
        "    plt.show()\n",
        "\n",
        "if __name__ == \"__main__\":\n",
        "    main()"
      ],
      "metadata": {
        "colab": {
          "base_uri": "https://localhost:8080/",
          "height": 891
        },
        "id": "0_ldQd1wrh3_",
        "outputId": "003d5a35-1410-48ba-cbae-3fd4daddee69"
      },
      "execution_count": 5,
      "outputs": [
        {
          "output_type": "stream",
          "name": "stdout",
          "text": [
            "k = 3: Expected rolls = 6.3333\n",
            "k = 4: Expected rolls = 12.8095\n",
            "k = 5: Expected rolls = 25.6857\n",
            "k = 6: Expected rolls = 51.4037\n",
            "k = 7: Expected rolls = 102.8232\n",
            "k = 8: Expected rolls = 205.6544\n",
            "k = 9: Expected rolls = 411.3127\n",
            "k = 10: Expected rolls = 822.6273\n",
            "k = 11: Expected rolls = 1645.2555\n",
            "k = 12: Expected rolls = 3290.5115\n",
            "k = 13: Expected rolls = 6581.0233\n",
            "k = 14: Expected rolls = 13162.0466\n",
            "k = 15: Expected rolls = 26324.0934\n",
            "k = 16: Expected rolls = 52648.1867\n",
            "k = 17: Expected rolls = 105296.3735\n",
            "k = 18: Expected rolls = 210592.7470\n",
            "k = 19: Expected rolls = 421185.4940\n",
            "k = 20: Expected rolls = 842370.9881\n"
          ]
        },
        {
          "output_type": "display_data",
          "data": {
            "text/plain": [
              "<Figure size 1000x600 with 1 Axes>"
            ],
            "image/png": "[encoded data removed]"
          },
          "metadata": {}
        }
      ]
    }
  ]
}