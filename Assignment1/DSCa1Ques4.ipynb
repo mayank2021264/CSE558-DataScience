{
  "nbformat": 4,
  "nbformat_minor": 0,
  "metadata": {
    "colab": {
      "provenance": []
    },
    "kernelspec": {
      "name": "python3",
      "display_name": "Python 3"
    },
    "language_info": {
      "name": "python"
    }
  },
  "cells": [
    {
      "cell_type": "code",
      "source": [
        "from google.colab import drive\n",
        "drive.mount('/content/drive')"
      ],
      "metadata": {
        "colab": {
          "base_uri": "https://localhost:8080/"
        },
        "id": "LB6av9B5kN_e",
        "outputId": "44cbc815-c2cf-4d0d-fba4-a6036f724d55"
      },
      "execution_count": 3,
      "outputs": [
        {
          "output_type": "stream",
          "name": "stdout",
          "text": [
            "Drive already mounted at /content/drive; to attempt to forcibly remount, call drive.mount(\"/content/drive\", force_remount=True).\n"
          ]
        }
      ]
    },
    {
      "cell_type": "code",
      "execution_count": 4,
      "metadata": {
        "id": "7Pc0D7wFj8yF"
      },
      "outputs": [],
      "source": [
        "import pandas as pd\n",
        "import math\n",
        "from collections import Counter\n",
        "from collections import defaultdict"
      ]
    },
    {
      "cell_type": "markdown",
      "source": [
        "**Question 4**\n",
        "PART A"
      ],
      "metadata": {
        "id": "77-F3UtymoW3"
      }
    },
    {
      "cell_type": "code",
      "source": [
        "data = pd.read_csv(\"/content/drive/MyDrive/Assignment-1 - Hurricane.csv\")\n",
        "data.head()"
      ],
      "metadata": {
        "colab": {
          "base_uri": "https://localhost:8080/",
          "height": 206
        },
        "id": "z2PoXZeMk5TG",
        "outputId": "e4901423-7cf5-4418-ae04-dba7f2855bb7"
      },
      "execution_count": 5,
      "outputs": [
        {
          "output_type": "execute_result",
          "data": {
            "text/plain": [
              "                           Name  Season               Month  \\\n",
              "0                  Hurricane #3    1853   August, September   \n",
              "1  \"1856 Last Island Hurricane\"    1856              August   \n",
              "2                  Hurricane #6    1866  September, October   \n",
              "3                  Hurricane #7    1878  September, October   \n",
              "4                  Hurricane #2    1880              August   \n",
              "\n",
              "   Max. sustained winds(mph)  Minimum pressure(mbar)  \n",
              "0                        150                     924  \n",
              "1                        150                     934  \n",
              "2                        140                     938  \n",
              "3                        140                     938  \n",
              "4                        150                     931  "
            ],
            "text/html": [
              "\n",
              "  <div id=\"df-b6c276a2-aab2-49e0-a527-c146acf81609\" class=\"colab-df-container\">\n",
              "    <div>\n",
              "<style scoped>\n",
              "    .dataframe tbody tr th:only-of-type {\n",
              "        vertical-align: middle;\n",
              "    }\n",
              "\n",
              "    .dataframe tbody tr th {\n",
              "        vertical-align: top;\n",
              "    }\n",
              "\n",
              "    .dataframe thead th {\n",
              "        text-align: right;\n",
              "    }\n",
              "</style>\n",
              "<table border=\"1\" class=\"dataframe\">\n",
              "  <thead>\n",
              "    <tr style=\"text-align: right;\">\n",
              "      <th></th>\n",
              "      <th>Name</th>\n",
              "      <th>Season</th>\n",
              "      <th>Month</th>\n",
              "      <th>Max. sustained winds(mph)</th>\n",
              "      <th>Minimum pressure(mbar)</th>\n",
              "    </tr>\n",
              "  </thead>\n",
              "  <tbody>\n",
              "    <tr>\n",
              "      <th>0</th>\n",
              "      <td>Hurricane #3</td>\n",
              "      <td>1853</td>\n",
              "      <td>August, September</td>\n",
              "      <td>150</td>\n",
              "      <td>924</td>\n",
              "    </tr>\n",
              "    <tr>\n",
              "      <th>1</th>\n",
              "      <td>\"1856 Last Island Hurricane\"</td>\n",
              "      <td>1856</td>\n",
              "      <td>August</td>\n",
              "      <td>150</td>\n",
              "      <td>934</td>\n",
              "    </tr>\n",
              "    <tr>\n",
              "      <th>2</th>\n",
              "      <td>Hurricane #6</td>\n",
              "      <td>1866</td>\n",
              "      <td>September, October</td>\n",
              "      <td>140</td>\n",
              "      <td>938</td>\n",
              "    </tr>\n",
              "    <tr>\n",
              "      <th>3</th>\n",
              "      <td>Hurricane #7</td>\n",
              "      <td>1878</td>\n",
              "      <td>September, October</td>\n",
              "      <td>140</td>\n",
              "      <td>938</td>\n",
              "    </tr>\n",
              "    <tr>\n",
              "      <th>4</th>\n",
              "      <td>Hurricane #2</td>\n",
              "      <td>1880</td>\n",
              "      <td>August</td>\n",
              "      <td>150</td>\n",
              "      <td>931</td>\n",
              "    </tr>\n",
              "  </tbody>\n",
              "</table>\n",
              "</div>\n",
              "    <div class=\"colab-df-buttons\">\n",
              "\n",
              "  <div class=\"colab-df-container\">\n",
              "    <button class=\"colab-df-convert\" onclick=\"convertToInteractive('df-b6c276a2-aab2-49e0-a527-c146acf81609')\"\n",
              "            title=\"Convert this dataframe to an interactive table.\"\n",
              "            style=\"display:none;\">\n",
              "\n",
              "  <svg xmlns=\"http://www.w3.org/2000/svg\" height=\"24px\" viewBox=\"0 -960 960 960\">\n",
              "    <path d=\"M120-120v-720h720v720H120Zm60-500h600v-160H180v160Zm220 220h160v-160H400v160Zm0 220h160v-160H400v160ZM180-400h160v-160H180v160Zm440 0h160v-160H620v160ZM180-180h160v-160H180v160Zm440 0h160v-160H620v160Z\"/>\n",
              "  </svg>\n",
              "    </button>\n",
              "\n",
              "  <style>\n",
              "    .colab-df-container {\n",
              "      display:flex;\n",
              "      gap: 12px;\n",
              "    }\n",
              "\n",
              "    .colab-df-convert {\n",
              "      background-color: #E8F0FE;\n",
              "      border: none;\n",
              "      border-radius: 50%;\n",
              "      cursor: pointer;\n",
              "      display: none;\n",
              "      fill: #1967D2;\n",
              "      height: 32px;\n",
              "      padding: 0 0 0 0;\n",
              "      width: 32px;\n",
              "    }\n",
              "\n",
              "    .colab-df-convert:hover {\n",
              "      background-color: #E2EBFA;\n",
              "      box-shadow: 0px 1px 2px rgba(60, 64, 67, 0.3), 0px 1px 3px 1px rgba(60, 64, 67, 0.15);\n",
              "      fill: #174EA6;\n",
              "    }\n",
              "\n",
              "    .colab-df-buttons div {\n",
              "      margin-bottom: 4px;\n",
              "    }\n",
              "\n",
              "    [theme=dark] .colab-df-convert {\n",
              "      background-color: #3B4455;\n",
              "      fill: #D2E3FC;\n",
              "    }\n",
              "\n",
              "    [theme=dark] .colab-df-convert:hover {\n",
              "      background-color: #434B5C;\n",
              "      box-shadow: 0px 1px 3px 1px rgba(0, 0, 0, 0.15);\n",
              "      filter: drop-shadow(0px 1px 2px rgba(0, 0, 0, 0.3));\n",
              "      fill: #FFFFFF;\n",
              "    }\n",
              "  </style>\n",
              "\n",
              "    <script>\n",
              "      const buttonEl =\n",
              "        document.querySelector('#df-b6c276a2-aab2-49e0-a527-c146acf81609 button.colab-df-convert');\n",
              "      buttonEl.style.display =\n",
              "        google.colab.kernel.accessAllowed ? 'block' : 'none';\n",
              "\n",
              "      async function convertToInteractive(key) {\n",
              "        const element = document.querySelector('#df-b6c276a2-aab2-49e0-a527-c146acf81609');\n",
              "        const dataTable =\n",
              "          await google.colab.kernel.invokeFunction('convertToInteractive',\n",
              "                                                    [key], {});\n",
              "        if (!dataTable) return;\n",
              "\n",
              "        const docLinkHtml = 'Like what you see? Visit the ' +\n",
              "          '<a target=\"_blank\" href=https://colab.research.google.com/notebooks/data_table.ipynb>data table notebook</a>'\n",
              "          + ' to learn more about interactive tables.';\n",
              "        element.innerHTML = '';\n",
              "        dataTable['output_type'] = 'display_data';\n",
              "        await google.colab.output.renderOutput(dataTable, element);\n",
              "        const docLink = document.createElement('div');\n",
              "        docLink.innerHTML = docLinkHtml;\n",
              "        element.appendChild(docLink);\n",
              "      }\n",
              "    </script>\n",
              "  </div>\n",
              "\n",
              "\n",
              "<div id=\"df-bc0de383-223d-4f12-9e74-d9f19159d64f\">\n",
              "  <button class=\"colab-df-quickchart\" onclick=\"quickchart('df-bc0de383-223d-4f12-9e74-d9f19159d64f')\"\n",
              "            title=\"Suggest charts\"\n",
              "            style=\"display:none;\">\n",
              "\n",
              "<svg xmlns=\"http://www.w3.org/2000/svg\" height=\"24px\"viewBox=\"0 0 24 24\"\n",
              "     width=\"24px\">\n",
              "    <g>\n",
              "        <path d=\"M19 3H5c-1.1 0-2 .9-2 2v14c0 1.1.9 2 2 2h14c1.1 0 2-.9 2-2V5c0-1.1-.9-2-2-2zM9 17H7v-7h2v7zm4 0h-2V7h2v10zm4 0h-2v-4h2v4z\"/>\n",
              "    </g>\n",
              "</svg>\n",
              "  </button>\n",
              "\n",
              "<style>\n",
              "  .colab-df-quickchart {\n",
              "      --bg-color: #E8F0FE;\n",
              "      --fill-color: #1967D2;\n",
              "      --hover-bg-color: #E2EBFA;\n",
              "      --hover-fill-color: #174EA6;\n",
              "      --disabled-fill-color: #AAA;\n",
              "      --disabled-bg-color: #DDD;\n",
              "  }\n",
              "\n",
              "  [theme=dark] .colab-df-quickchart {\n",
              "      --bg-color: #3B4455;\n",
              "      --fill-color: #D2E3FC;\n",
              "      --hover-bg-color: #434B5C;\n",
              "      --hover-fill-color: #FFFFFF;\n",
              "      --disabled-bg-color: #3B4455;\n",
              "      --disabled-fill-color: #666;\n",
              "  }\n",
              "\n",
              "  .colab-df-quickchart {\n",
              "    background-color: var(--bg-color);\n",
              "    border: none;\n",
              "    border-radius: 50%;\n",
              "    cursor: pointer;\n",
              "    display: none;\n",
              "    fill: var(--fill-color);\n",
              "    height: 32px;\n",
              "    padding: 0;\n",
              "    width: 32px;\n",
              "  }\n",
              "\n",
              "  .colab-df-quickchart:hover {\n",
              "    background-color: var(--hover-bg-color);\n",
              "    box-shadow: 0 1px 2px rgba(60, 64, 67, 0.3), 0 1px 3px 1px rgba(60, 64, 67, 0.15);\n",
              "    fill: var(--button-hover-fill-color);\n",
              "  }\n",
              "\n",
              "  .colab-df-quickchart-complete:disabled,\n",
              "  .colab-df-quickchart-complete:disabled:hover {\n",
              "    background-color: var(--disabled-bg-color);\n",
              "    fill: var(--disabled-fill-color);\n",
              "    box-shadow: none;\n",
              "  }\n",
              "\n",
              "  .colab-df-spinner {\n",
              "    border: 2px solid var(--fill-color);\n",
              "    border-color: transparent;\n",
              "    border-bottom-color: var(--fill-color);\n",
              "    animation:\n",
              "      spin 1s steps(1) infinite;\n",
              "  }\n",
              "\n",
              "  @keyframes spin {\n",
              "    0% {\n",
              "      border-color: transparent;\n",
              "      border-bottom-color: var(--fill-color);\n",
              "      border-left-color: var(--fill-color);\n",
              "    }\n",
              "    20% {\n",
              "      border-color: transparent;\n",
              "      border-left-color: var(--fill-color);\n",
              "      border-top-color: var(--fill-color);\n",
              "    }\n",
              "    30% {\n",
              "      border-color: transparent;\n",
              "      border-left-color: var(--fill-color);\n",
              "      border-top-color: var(--fill-color);\n",
              "      border-right-color: var(--fill-color);\n",
              "    }\n",
              "    40% {\n",
              "      border-color: transparent;\n",
              "      border-right-color: var(--fill-color);\n",
              "      border-top-color: var(--fill-color);\n",
              "    }\n",
              "    60% {\n",
              "      border-color: transparent;\n",
              "      border-right-color: var(--fill-color);\n",
              "    }\n",
              "    80% {\n",
              "      border-color: transparent;\n",
              "      border-right-color: var(--fill-color);\n",
              "      border-bottom-color: var(--fill-color);\n",
              "    }\n",
              "    90% {\n",
              "      border-color: transparent;\n",
              "      border-bottom-color: var(--fill-color);\n",
              "    }\n",
              "  }\n",
              "</style>\n",
              "\n",
              "  <script>\n",
              "    async function quickchart(key) {\n",
              "      const quickchartButtonEl =\n",
              "        document.querySelector('#' + key + ' button');\n",
              "      quickchartButtonEl.disabled = true;  // To prevent multiple clicks.\n",
              "      quickchartButtonEl.classList.add('colab-df-spinner');\n",
              "      try {\n",
              "        const charts = await google.colab.kernel.invokeFunction(\n",
              "            'suggestCharts', [key], {});\n",
              "      } catch (error) {\n",
              "        console.error('Error during call to suggestCharts:', error);\n",
              "      }\n",
              "      quickchartButtonEl.classList.remove('colab-df-spinner');\n",
              "      quickchartButtonEl.classList.add('colab-df-quickchart-complete');\n",
              "    }\n",
              "    (() => {\n",
              "      let quickchartButtonEl =\n",
              "        document.querySelector('#df-bc0de383-223d-4f12-9e74-d9f19159d64f button');\n",
              "      quickchartButtonEl.style.display =\n",
              "        google.colab.kernel.accessAllowed ? 'block' : 'none';\n",
              "    })();\n",
              "  </script>\n",
              "</div>\n",
              "\n",
              "    </div>\n",
              "  </div>\n"
            ],
            "application/vnd.google.colaboratory.intrinsic+json": {
              "type": "dataframe",
              "variable_name": "data",
              "summary": "{\n  \"name\": \"data\",\n  \"rows\": 101,\n  \"fields\": [\n    {\n      \"column\": \"Name\",\n      \"properties\": {\n        \"dtype\": \"string\",\n        \"num_unique_values\": 89,\n        \"samples\": [\n          \"Hurricane Ione\",\n          \"Hurricane Flora\",\n          \"1944 Great Atlantic hurricane\"\n        ],\n        \"semantic_type\": \"\",\n        \"description\": \"\"\n      }\n    },\n    {\n      \"column\": \"Season\",\n      \"properties\": {\n        \"dtype\": \"number\",\n        \"std\": 37,\n        \"min\": 1853,\n        \"max\": 2004,\n        \"num_unique_values\": 67,\n        \"samples\": [\n          1954,\n          1917,\n          1880\n        ],\n        \"semantic_type\": \"\",\n        \"description\": \"\"\n      }\n    },\n    {\n      \"column\": \"Month\",\n      \"properties\": {\n        \"dtype\": \"category\",\n        \"num_unique_values\": 15,\n        \"samples\": [\n          \"November 3\\u00e2\\u20ac\\u201c4\",\n          \"August 31\\u00e2\\u20ac\\u201cSeptember 5\",\n          \"August, September\"\n        ],\n        \"semantic_type\": \"\",\n        \"description\": \"\"\n      }\n    },\n    {\n      \"column\": \"Max. sustained winds(mph)\",\n      \"properties\": {\n        \"dtype\": \"number\",\n        \"std\": 7,\n        \"min\": 130,\n        \"max\": 155,\n        \"num_unique_values\": 5,\n        \"samples\": [\n          140,\n          145,\n          155\n        ],\n        \"semantic_type\": \"\",\n        \"description\": \"\"\n      }\n    },\n    {\n      \"column\": \"Minimum pressure(mbar)\",\n      \"properties\": {\n        \"dtype\": \"number\",\n        \"std\": 9,\n        \"min\": 916,\n        \"max\": 975,\n        \"num_unique_values\": 37,\n        \"samples\": [\n          933,\n          927,\n          928\n        ],\n        \"semantic_type\": \"\",\n        \"description\": \"\"\n      }\n    }\n  ]\n}"
            }
          },
          "metadata": {},
          "execution_count": 5
        }
      ]
    },
    {
      "cell_type": "code",
      "source": [
        "max_winds = data['Max. sustained winds(mph)'].tolist()\n",
        "min_pressure = data['Minimum pressure(mbar)'].tolist()\n",
        "\n",
        "print(max_winds)\n",
        "print(min_pressure)"
      ],
      "metadata": {
        "colab": {
          "base_uri": "https://localhost:8080/"
        },
        "id": "GaE0mikblKgD",
        "outputId": "5de7895d-9216-43bc-a7b6-41b836e59869"
      },
      "execution_count": 6,
      "outputs": [
        {
          "output_type": "stream",
          "name": "stdout",
          "text": [
            "[150, 150, 140, 140, 150, 140, 140, 155, 130, 130, 130, 150, 145, 130, 150, 145, 145, 130, 150, 150, 140, 140, 140, 150, 150, 155, 155, 130, 150, 145, 140, 140, 140, 130, 140, 140, 130, 145, 145, 130, 145, 130, 130, 150, 145, 140, 130, 130, 150, 145, 130, 140, 140, 140, 140, 130, 130, 140, 145, 140, 145, 145, 155, 130, 145, 150, 155, 150, 150, 140, 140, 130, 130, 130, 130, 130, 145, 145, 145, 145, 130, 140, 140, 150, 145, 140, 155, 145, 140, 155, 150, 155, 140, 140, 145, 140, 145, 145, 150, 145, 145]\n",
            "[924, 934, 938, 938, 931, 928, 975, 925, 948, 931, 930, 930, 936, 950, 924, 940, 931, 932, 928, 927, 941, 967, 957, 930, 934, 924, 933, 952, 935, 943, 940, 945, 947, 955, 945, 941, 957, 933, 937, 949, 938, 940, 940, 954, 943, 946, 955, 958, 937, 934, 937, 944, 938, 945, 947, 948, 934, 950, 930, 945, 927, 940, 950, 942, 945, 941, 941, 929, 928, 939, 956, 947, 943, 946, 950, 949, 919, 938, 932, 935, 943, 929, 935, 916, 933, 935, 937, 944, 942, 921, 930, 933, 943, 939, 948, 933, 938, 939, 941, 935, 938]\n"
          ]
        }
      ]
    },
    {
      "cell_type": "code",
      "source": [
        "#calculating means\n",
        "n = len(max_winds)\n",
        "mean_winds = sum(max_winds)/n\n",
        "mean_pressure = sum(min_pressure)/n\n",
        "\n",
        "print(mean_winds)\n",
        "print(mean_pressure)"
      ],
      "metadata": {
        "colab": {
          "base_uri": "https://localhost:8080/"
        },
        "id": "-rajfIOImGi4",
        "outputId": "d0d35c25-a2f7-4d76-f2f9-a3fa913f6182"
      },
      "execution_count": 7,
      "outputs": [
        {
          "output_type": "stream",
          "name": "stdout",
          "text": [
            "141.88118811881188\n",
            "939.3762376237623\n"
          ]
        }
      ]
    },
    {
      "cell_type": "code",
      "source": [
        "# Calculate sums for correlation coefficient\n",
        "sum_xy = sum((x - mean_winds) * (y - mean_pressure) for x, y in zip(max_winds, min_pressure))\n",
        "sum_x_squared = sum((x - mean_winds) ** 2 for x in max_winds)\n",
        "sum_y_squared = sum((y - mean_pressure) ** 2 for y in min_pressure)\n",
        "\n",
        "print(sum_xy)\n",
        "print(sum_x_squared)\n",
        "print(sum_y_squared)"
      ],
      "metadata": {
        "colab": {
          "base_uri": "https://localhost:8080/"
        },
        "id": "-3j4Zm1jmmna",
        "outputId": "ed099d8d-e48a-481e-d943-685eebedd336"
      },
      "execution_count": 8,
      "outputs": [
        {
          "output_type": "stream",
          "name": "stdout",
          "text": [
            "-3771.4851485148515\n",
            "6142.5742574257365\n",
            "9901.702970297029\n"
          ]
        }
      ]
    },
    {
      "cell_type": "code",
      "source": [
        "# Pearson correlation coefficient\n",
        "r = sum_xy / (sum_x_squared * sum_y_squared) ** 0.5\n",
        "\n",
        "#  t-statistic\n",
        "t_stat = r * ((n - 2) / (1 - r**2)) ** 0.5\n",
        "\n",
        "# degrees of freedom\n",
        "df = n - 2"
      ],
      "metadata": {
        "id": "4nzUA-vVnDN9"
      },
      "execution_count": 9,
      "outputs": []
    },
    {
      "cell_type": "code",
      "source": [
        "#Calculate critical t-value (approximation for large df)\n",
        "# For 1% significance level (two-tailed), we use 2.576 (z-score for 99% confidence)\n",
        "critical_t = 2.576\n",
        "\n",
        "print(f\"Number of data points: {n}\")\n",
        "print(f\"Mean of max winds: {mean_winds:.2f}\")\n",
        "print(f\"Mean of min pressure: {mean_pressure:.2f}\")\n",
        "print(f\"Pearson correlation coefficient (r): {r:.4f}\")\n",
        "print(f\"t-statistic: {t_stat:.4f}\")\n",
        "print(f\"Degrees of freedom: {df}\")\n",
        "print(f\"Critical t-value (approximation): {critical_t:.4f}\")\n",
        "\n",
        "if abs(t_stat) > critical_t:\n",
        "    print(\"Reject the null hypothesis. There is a significant correlation.\")\n",
        "else:\n",
        "    print(\"Fail to reject the null hypothesis. There is not enough evidence of a significant correlation.\")"
      ],
      "metadata": {
        "colab": {
          "base_uri": "https://localhost:8080/"
        },
        "id": "Ife6fI6AnUnw",
        "outputId": "4a3a8f78-b2fc-481a-da4b-60aab5651611"
      },
      "execution_count": 10,
      "outputs": [
        {
          "output_type": "stream",
          "name": "stdout",
          "text": [
            "Number of data points: 101\n",
            "Mean of max winds: 141.88\n",
            "Mean of min pressure: 939.38\n",
            "Pearson correlation coefficient (r): -0.4836\n",
            "t-statistic: -5.4973\n",
            "Degrees of freedom: 99\n",
            "Critical t-value (approximation): 2.5760\n",
            "Reject the null hypothesis. There is a significant correlation.\n"
          ]
        }
      ]
    },
    {
      "cell_type": "markdown",
      "source": [
        "**PART B**"
      ],
      "metadata": {
        "id": "R8zoD8pSnlcB"
      }
    },
    {
      "cell_type": "code",
      "source": [
        "\n",
        "\n",
        "# Extract data\n",
        "d_month = [\n",
        "    (\"August, September\", 150), (\"August\", 150), (\"September, October\", 140), (\"September, October\", 140),\n",
        "    (\"August\", 150), (\"September, October\", 140), (\"October\", 140), (\"August\", 155), (\"September, October\", 130),\n",
        "    (\"October\", 130), (\"September, October\", 130), (\"August, September\", 150), (\"August, September\", 145),\n",
        "    (\"August, September\", 130), (\"October\", 150), (\"August\", 145), (\"September, October\", 145), (\"August\", 130),\n",
        "    (\"September\", 150), (\"September\", 150), (\"October\", 140), (\"July, August\", 140), (\"September\", 140),\n",
        "    (\"September\", 150), (\"October\", 150), (\"September, October\", 155), (\"August, September\", 155), (\"September\", 130),\n",
        "    (\"August\", 150), (\"September\", 145), (\"August\", 140), (\"August, September\", 140), (\"September\", 140),\n",
        "    (\"August\", 130), (\"September, October\", 140), (\"October\", 140), (\"September\", 130), (\"September\", 145),\n",
        "    (\"October\", 145), (\"September\", 130), (\"September\", 145), (\"September\", 130), (\"September\", 130), (\"August\", 150),\n",
        "    (\"September\", 145), (\"September\", 140), (\"October\", 130), (\"August\", 130), (\"September\", 150), (\"October\", 140),\n",
        "    (\"October\", 145), (\"August\", 140), (\"September\", 140), (\"September\", 140), (\"August\", 140), (\"August\", 130),\n",
        "    (\"September\", 130), (\"September\", 140), (\"September\", 145), (\"September\", 145), (\"September, October\", 130),\n",
        "    (\"August, September\", 155), (\"August, September\", 130), (\"September, October\", 145), (\"September, October\", 150),\n",
        "    (\"August, September\", 155), (\"September, October\", 150), (\"September, October\", 150), (\"September, October\", 140),\n",
        "    (\"September\", 130), (\"September\", 130), (\"August, September\", 130), (\"September\", 130), (\"August, September\", 145),\n",
        "    (\"August, September\", 145), (\"September\", 145), (\"September\", 140), (\"September\", 140), (\"September, October\", 150),\n",
        "    (\"August, September\", 155), (\"September\", 140), (\"August, September\", 145), (\"September\", 145),\n",
        "    (\"September, October\", 150), (\"August, September\", 155), (\"September\", 145), (\"September, October\", 140),\n",
        "    (\"September\", 145), (\"August\", 140), (\"September\", 145), (\"September, October\", 150), (\"September\", 145),\n",
        "    (\"September, October\", 150), (\"September, October\", 155), (\"October 8–9\", 145), (\"November 3–4\", 140),\n",
        "    (\"October 2–3\", 145), (\"August 31–September 5\", 145), (\"Aug-13\", 150), (\"August 28–September 2\", 145),\n",
        "    (\"September 20–21\", 145)\n",
        "]\n",
        "\n",
        "# Organize data by month\n",
        "month_data = defaultdict(list)\n",
        "for month, wind in d_month:\n",
        "    if \",\" in month or \"–\" in month:\n",
        "        months = [m.strip() for m in month.replace(\"–\", \",\").split(\",\")]\n",
        "        for m in months:\n",
        "            if m:  # Ignore empty strings\n",
        "                month_data[m].append(wind)\n",
        "    else:\n",
        "        month_data[month].append(wind)\n",
        "\n",
        "# Calculate statistics\n",
        "total_sum = sum(sum(winds) for winds in month_data.values())\n",
        "total_count = sum(len(winds) for winds in month_data.values())\n",
        "grand_mean = total_sum / total_count\n",
        "\n",
        "ssb = 0  # Sum of squares between groups\n",
        "ssw = 0  # Sum of squares within groups\n",
        "dof_b = 0  # Degrees of freedom between groups\n",
        "dof_w = 0  # Degrees of freedom within groups\n",
        "\n",
        "for month, winds in month_data.items():\n",
        "    n = len(winds)\n",
        "    mean = sum(winds) / n\n",
        "    ssb += n * (mean - grand_mean) ** 2\n",
        "    ssw += sum((wind - mean) ** 2 for wind in winds)\n",
        "    dof_b += 1\n",
        "    dof_w += n - 1\n",
        "\n",
        "dof_b -= 1  # Adjust degrees of freedom between groups\n",
        "\n",
        "# Calculate mean squares\n",
        "msb = ssb / dof_b\n",
        "msw = ssw / dof_w\n",
        "\n",
        "# Calculate F-statistic\n",
        "f_statistic = msb / msw\n",
        "\n",
        "# Print results\n",
        "print(f\"Grand Mean: {grand_mean:.2f}\")\n",
        "print(f\"Sum of Squares Between Groups (SSB): {ssb:.2f}\")\n",
        "print(f\"Sum of Squares Within Groups (SSW): {ssw:.2f}\")\n",
        "print(f\"Degrees of Freedom Between Groups: {dof_b}\")\n",
        "print(f\"Degrees of Freedom Within Groups: {dof_w}\")\n",
        "print(f\"Mean Square Between Groups (MSB): {msb:.2f}\")\n",
        "print(f\"Mean Square Within Groups (MSW): {msw:.2f}\")\n",
        "print(f\"F-statistic: {f_statistic:.4f}\")\n",
        "\n",
        "# Critical F-value (approximation for 5% significance level)\n",
        "# using 2.10 as an approximation for large degrees of freedom\n",
        "critical_f = 2.10\n",
        "\n",
        "print(f\"Critical F-value (approximation): {critical_f:.4f}\")\n",
        "\n",
        "if f_statistic > critical_f:\n",
        "    print(\"Reject the null hypothesis. There is significant evidence that max sustained winds depend on the month.\")\n",
        "else:\n",
        "    print(\"Fail to reject the null hypothesis. There is not enough evidence that max sustained winds depend on the month.\")"
      ],
      "metadata": {
        "colab": {
          "base_uri": "https://localhost:8080/"
        },
        "id": "c2nObuCenotY",
        "outputId": "68bd4b99-3f95-458a-b1d9-6a5fe97a37a2"
      },
      "execution_count": 11,
      "outputs": [
        {
          "output_type": "stream",
          "name": "stdout",
          "text": [
            "Grand Mean: 143.01\n",
            "Sum of Squares Between Groups (SSB): 138.33\n",
            "Sum of Squares Within Groups (SSW): 8468.66\n",
            "Degrees of Freedom Between Groups: 16\n",
            "Degrees of Freedom Within Groups: 126\n",
            "Mean Square Between Groups (MSB): 8.65\n",
            "Mean Square Within Groups (MSW): 67.21\n",
            "F-statistic: 0.1286\n",
            "Critical F-value (approximation): 2.1000\n",
            "Fail to reject the null hypothesis. There is not enough evidence that max sustained winds depend on the month.\n"
          ]
        }
      ]
    },
    {
      "cell_type": "markdown",
      "source": [
        "**PART C**"
      ],
      "metadata": {
        "id": "GodF1LGSw3pi"
      }
    },
    {
      "cell_type": "code",
      "source": [
        "\n",
        "# Data\n",
        "data = pd.read_csv(\"/content/drive/MyDrive/Assignment-1 - Hurricane.csv\")\n",
        "wind_speeds = data['Max. sustained winds(mph)'].tolist()\n",
        "\n",
        "#Calculating mean (lamda)\n",
        "lambda_param = sum(wind_speeds) / len(wind_speeds)\n",
        "\n",
        "#Grouping data\n",
        "observed_freq = Counter(wind_speeds)\n",
        "\n",
        "#Calculating expected frequencies\n",
        "def poisson_prob(k, lambda_param):\n",
        "    return (lambda_param ** k * math.exp(-lambda_param)) / math.factorial(k)\n",
        "\n",
        "total_observations = len(wind_speeds)\n",
        "expected_freq = {k: poisson_prob(k - min(wind_speeds), lambda_param - min(wind_speeds)) * total_observations\n",
        "                 for k in observed_freq.keys()}\n",
        "\n",
        "#Calculating Chi-square statistic\n",
        "chi_square = sum((observed_freq[k] - expected_freq[k]) ** 2 / expected_freq[k] for k in observed_freq.keys())\n",
        "\n",
        "# Calculating degrees of freedom\n",
        "dof = len(observed_freq) - 2  # Subtracting 2 because we estimated one parameter (lamda) and sum of probabilities = 1\n",
        "\n",
        "# Printing results\n",
        "print(f\"Mean (lambda): {lambda_param:.2f}\")\n",
        "print(f\"Observed frequencies: {dict(observed_freq)}\")\n",
        "print(f\"Expected frequencies: {dict((k, v) for k, v in expected_freq.items() if v >= 5)}\")\n",
        "print(f\"Chi-square statistic: {chi_square:.4f}\")\n",
        "print(f\"Degrees of freedom: {dof}\")\n",
        "\n",
        "# Determining critical value (approximation for 10% significance level)\n",
        "# i'm using 7.779 as an approximation for 4 degrees of freedom at 10% significance\n",
        "critical_value = 7.779\n",
        "\n",
        "print(f\"Critical value (approximation): {critical_value:.4f}\")\n",
        "\n",
        "if chi_square > critical_value:\n",
        "    print(\"Reject the null hypothesis. The data does not follow a Poisson distribution.\")\n",
        "else:\n",
        "    print(\"Fail to reject the null hypothesis. There is not enough evidence to conclude the data doesn't follow a Poisson distribution.\")"
      ],
      "metadata": {
        "colab": {
          "base_uri": "https://localhost:8080/"
        },
        "id": "qezX9TUtw2ko",
        "outputId": "9313253f-31f2-40ae-b146-e89b64babdbb"
      },
      "execution_count": 12,
      "outputs": [
        {
          "output_type": "stream",
          "name": "stdout",
          "text": [
            "Mean (lambda): 141.88\n",
            "Observed frequencies: {150: 18, 140: 28, 155: 8, 130: 23, 145: 24}\n",
            "Expected frequencies: {140: 10.794999463870822, 145: 7.0922724089445435}\n",
            "Chi-square statistic: 759191.9456\n",
            "Degrees of freedom: 3\n",
            "Critical value (approximation): 7.7790\n",
            "Reject the null hypothesis. The data does not follow a Poisson distribution.\n"
          ]
        }
      ]
    }
  ]
}